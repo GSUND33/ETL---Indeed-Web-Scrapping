{
 "cells": [
  {
   "cell_type": "code",
   "execution_count": 1,
   "metadata": {},
   "outputs": [],
   "source": [
    "import bs4\n",
    "from bs4 import BeautifulSoup\n",
    "import requests\n",
    "import pandas as pd\n",
    "import time"
   ]
  },
  {
   "cell_type": "code",
   "execution_count": 2,
   "metadata": {},
   "outputs": [],
   "source": [
    "analyst_url = \"https://www.indeed.com/jobs?q=data+analyst&l=Washington%2C+DC&radius=50\""
   ]
  },
  {
   "cell_type": "code",
   "execution_count": 3,
   "metadata": {},
   "outputs": [],
   "source": [
    "analyst_response = requests.get(analyst_url)"
   ]
  },
  {
   "cell_type": "code",
   "execution_count": 4,
   "metadata": {},
   "outputs": [],
   "source": [
    "soup = BeautifulSoup(analyst_response.text, 'html.parser')"
   ]
  },
  {
   "cell_type": "code",
   "execution_count": 5,
   "metadata": {},
   "outputs": [],
   "source": [
    "def indeed_title(soup): \n",
    "    jobs = []\n",
    "    for div in soup.find_all(name='div', attrs={'class':'row'}):\n",
    "        for a in div.find_all(name='a', attrs={'data-tn-element':'jobTitle'}):\n",
    "            jobs.append(a['title'])\n",
    "    return(jobs)\n"
   ]
  },
  {
   "cell_type": "code",
   "execution_count": 6,
   "metadata": {},
   "outputs": [
    {
     "data": {
      "text/plain": [
       "['Data Analyst',\n",
       " 'Data Analyst IV',\n",
       " 'Data Analyst',\n",
       " 'Healthcare Data Analyst',\n",
       " 'Business Analyst',\n",
       " 'Sr. Data Analyst',\n",
       " 'Data Analyst',\n",
       " 'Data Intake Analyst',\n",
       " 'Data Analyst (Security Clearance required)',\n",
       " 'Requirements Analyst',\n",
       " 'Data Analyst I',\n",
       " 'Data Analyst Supporting the USPIS',\n",
       " 'Business Data Analyst (Cyber)',\n",
       " 'Portland, Washington DC, or London - Reduced Access Programming Data Analysis Intern',\n",
       " 'Business Data Analyst',\n",
       " 'Senior Data Analyst',\n",
       " 'Data Analyst']"
      ]
     },
     "execution_count": 6,
     "metadata": {},
     "output_type": "execute_result"
    }
   ],
   "source": [
    "indeed_title(soup)"
   ]
  },
  {
   "cell_type": "code",
   "execution_count": 7,
   "metadata": {},
   "outputs": [],
   "source": [
    "def indeed_company(soup): \n",
    "    companies = []\n",
    "    for div in soup.find_all(name='div', attrs={'class':'row'}):\n",
    "        company = div.find_all(name='span', attrs={'class':'company'})\n",
    "        if len(company) > 0:\n",
    "            for b in company:\n",
    "                companies.append(b.text.strip())\n",
    "        else:\n",
    "            sec_try = div.find_all(name='span', attrs={'class':'result-link-source'})\n",
    "            for span in sec_try:\n",
    "                companies.append(span.text.strip())\n",
    "    return(companies)"
   ]
  },
  {
   "cell_type": "code",
   "execution_count": 8,
   "metadata": {},
   "outputs": [
    {
     "data": {
      "text/plain": [
       "['Seen by Indeed',\n",
       " 'Common Securitization Solutions',\n",
       " 'Sage Management',\n",
       " 'Baltimore Medical System, Inc.',\n",
       " 'Maru Solutions',\n",
       " 'Tredence',\n",
       " 'NewDay USA',\n",
       " 'The HSC Health Care System',\n",
       " 'IST Research',\n",
       " 'Liberty IT Solutions',\n",
       " 'CNA Corp.',\n",
       " 'Forfeiture Support Associates',\n",
       " 'Quasars, Inc.',\n",
       " 'Mercy Corps',\n",
       " 'CACI',\n",
       " 'Integral',\n",
       " 'spirits work']"
      ]
     },
     "execution_count": 8,
     "metadata": {},
     "output_type": "execute_result"
    }
   ],
   "source": [
    " indeed_company(soup)"
   ]
  },
  {
   "cell_type": "code",
   "execution_count": 9,
   "metadata": {},
   "outputs": [],
   "source": [
    "def indeed_location(soup): \n",
    "    locations = []\n",
    "    spans = soup.findAll(\"span\", attrs={\"class\": \"location\"})\n",
    "    for span in spans:\n",
    "        locations.append(span.text)\n",
    "    return(locations)"
   ]
  },
  {
   "cell_type": "code",
   "execution_count": 10,
   "metadata": {},
   "outputs": [
    {
     "data": {
      "text/plain": [
       "['Washington, DC 20005 (Logan Circle area)',\n",
       " 'Arlington, VA',\n",
       " 'Rosslyn, VA',\n",
       " 'Arlington, VA 22201',\n",
       " 'Washington, DC 20066 (Brentwood area)',\n",
       " 'Rockville, MD',\n",
       " 'Washington, DC 20036 (Downtown area)',\n",
       " 'Washington, DC 20005 (Logan Circle area)']"
      ]
     },
     "execution_count": 10,
     "metadata": {},
     "output_type": "execute_result"
    }
   ],
   "source": [
    "indeed_location(soup)"
   ]
  },
  {
   "cell_type": "code",
   "execution_count": 11,
   "metadata": {},
   "outputs": [
    {
     "data": {
      "text/html": [
       "<div>\n",
       "<style scoped>\n",
       "    .dataframe tbody tr th:only-of-type {\n",
       "        vertical-align: middle;\n",
       "    }\n",
       "\n",
       "    .dataframe tbody tr th {\n",
       "        vertical-align: top;\n",
       "    }\n",
       "\n",
       "    .dataframe thead th {\n",
       "        text-align: right;\n",
       "    }\n",
       "</style>\n",
       "<table border=\"1\" class=\"dataframe\">\n",
       "  <thead>\n",
       "    <tr style=\"text-align: right;\">\n",
       "      <th></th>\n",
       "      <th>Job Title</th>\n",
       "      <th>Company</th>\n",
       "      <th>Location</th>\n",
       "    </tr>\n",
       "  </thead>\n",
       "  <tbody>\n",
       "    <tr>\n",
       "      <th>0</th>\n",
       "      <td>Data Analyst</td>\n",
       "      <td>Seen by Indeed</td>\n",
       "      <td>Washington, DC 20005 (Logan Circle area)</td>\n",
       "    </tr>\n",
       "    <tr>\n",
       "      <th>1</th>\n",
       "      <td>Data Analyst IV</td>\n",
       "      <td>Common Securitization Solutions</td>\n",
       "      <td>Arlington, VA</td>\n",
       "    </tr>\n",
       "    <tr>\n",
       "      <th>2</th>\n",
       "      <td>Data Analyst</td>\n",
       "      <td>Sage Management</td>\n",
       "      <td>Rosslyn, VA</td>\n",
       "    </tr>\n",
       "    <tr>\n",
       "      <th>3</th>\n",
       "      <td>Healthcare Data Analyst</td>\n",
       "      <td>Baltimore Medical System, Inc.</td>\n",
       "      <td>Arlington, VA 22201</td>\n",
       "    </tr>\n",
       "    <tr>\n",
       "      <th>4</th>\n",
       "      <td>Business Analyst</td>\n",
       "      <td>Maru Solutions</td>\n",
       "      <td>Washington, DC 20066 (Brentwood area)</td>\n",
       "    </tr>\n",
       "    <tr>\n",
       "      <th>5</th>\n",
       "      <td>Sr. Data Analyst</td>\n",
       "      <td>Tredence</td>\n",
       "      <td>Rockville, MD</td>\n",
       "    </tr>\n",
       "    <tr>\n",
       "      <th>6</th>\n",
       "      <td>Data Analyst</td>\n",
       "      <td>NewDay USA</td>\n",
       "      <td>Washington, DC 20036 (Downtown area)</td>\n",
       "    </tr>\n",
       "    <tr>\n",
       "      <th>7</th>\n",
       "      <td>Data Intake Analyst</td>\n",
       "      <td>The HSC Health Care System</td>\n",
       "      <td>Washington, DC 20005 (Logan Circle area)</td>\n",
       "    </tr>\n",
       "  </tbody>\n",
       "</table>\n",
       "</div>"
      ],
      "text/plain": [
       "                 Job Title                          Company  \\\n",
       "0             Data Analyst                   Seen by Indeed   \n",
       "1          Data Analyst IV  Common Securitization Solutions   \n",
       "2             Data Analyst                  Sage Management   \n",
       "3  Healthcare Data Analyst   Baltimore Medical System, Inc.   \n",
       "4         Business Analyst                   Maru Solutions   \n",
       "5         Sr. Data Analyst                         Tredence   \n",
       "6             Data Analyst                       NewDay USA   \n",
       "7      Data Intake Analyst       The HSC Health Care System   \n",
       "\n",
       "                                   Location  \n",
       "0  Washington, DC 20005 (Logan Circle area)  \n",
       "1                             Arlington, VA  \n",
       "2                               Rosslyn, VA  \n",
       "3                       Arlington, VA 22201  \n",
       "4     Washington, DC 20066 (Brentwood area)  \n",
       "5                             Rockville, MD  \n",
       "6      Washington, DC 20036 (Downtown area)  \n",
       "7  Washington, DC 20005 (Logan Circle area)  "
      ]
     },
     "execution_count": 11,
     "metadata": {},
     "output_type": "execute_result"
    }
   ],
   "source": [
    "df = pd.DataFrame(list(zip(indeed_title(soup), indeed_company(soup), indeed_location(soup))), columns = ['Job Title', 'Company', 'Location'])\n",
    "df"
   ]
  },
  {
   "cell_type": "code",
   "execution_count": 12,
   "metadata": {},
   "outputs": [],
   "source": [
    "sci_url = \"https://www.indeed.com/jobs?q=data+scientist&l=Washington%2C+DC&radius=50\""
   ]
  },
  {
   "cell_type": "code",
   "execution_count": 13,
   "metadata": {},
   "outputs": [],
   "source": [
    "sci_response = requests.get(sci_url)"
   ]
  },
  {
   "cell_type": "code",
   "execution_count": 14,
   "metadata": {},
   "outputs": [],
   "source": [
    "soup = BeautifulSoup(sci_response.text, 'html.parser')"
   ]
  },
  {
   "cell_type": "code",
   "execution_count": 15,
   "metadata": {},
   "outputs": [
    {
     "data": {
      "text/plain": [
       "['Data Scientist (Python/Remote)',\n",
       " 'Data Scientist',\n",
       " 'Data Scientist',\n",
       " 'Data Scientist',\n",
       " 'Data Scientist',\n",
       " 'Data Scientist',\n",
       " 'Undergraduate Internship/Co-op Program - Data Scientist',\n",
       " 'Applied Data Scientist- Arlington, VA',\n",
       " 'Data Scientist',\n",
       " 'Junior Data Scientist',\n",
       " 'Data Scientist',\n",
       " 'Data Scientist - Entry Level',\n",
       " 'Data Scientist Intern',\n",
       " 'Data Analyst – Statistical Modeling',\n",
       " 'Data Scientist',\n",
       " 'Enterprise Analytics Data Scientist',\n",
       " 'Senior Data Scientist',\n",
       " 'Data Scientist - Midlevel']"
      ]
     },
     "execution_count": 15,
     "metadata": {},
     "output_type": "execute_result"
    }
   ],
   "source": [
    "indeed_title(soup)"
   ]
  },
  {
   "cell_type": "code",
   "execution_count": 16,
   "metadata": {},
   "outputs": [
    {
     "data": {
      "text/plain": [
       "['AM LLC',\n",
       " 'Seen by Indeed',\n",
       " 'Red Oak Strategic',\n",
       " 'Verizon',\n",
       " 'Central Intelligence Agency',\n",
       " 'Perspecta',\n",
       " 'Central Intelligence Agency',\n",
       " 'Nestle USA',\n",
       " 'National Security Agency',\n",
       " 'Numero Data LLC',\n",
       " 'NumeroData LLC',\n",
       " 'Customer Value Partners',\n",
       " 'Premise',\n",
       " 'Nestle USA',\n",
       " 'The Consortium, Inc.',\n",
       " 'Nestle USA',\n",
       " 'Adnet, Inc',\n",
       " 'Management Science & Innovation']"
      ]
     },
     "execution_count": 16,
     "metadata": {},
     "output_type": "execute_result"
    }
   ],
   "source": [
    "indeed_company(soup)"
   ]
  },
  {
   "cell_type": "code",
   "execution_count": 17,
   "metadata": {},
   "outputs": [
    {
     "data": {
      "text/plain": [
       "['Arlington, VA',\n",
       " 'Fort Meade, MD 20755',\n",
       " 'Herndon, VA',\n",
       " 'Herndon, VA 20170',\n",
       " 'Washington, DC',\n",
       " 'Washington, DC',\n",
       " 'Arlington, VA',\n",
       " 'Suitland, MD 20746',\n",
       " 'Arlington, VA']"
      ]
     },
     "execution_count": 17,
     "metadata": {},
     "output_type": "execute_result"
    }
   ],
   "source": [
    "indeed_location(soup)"
   ]
  },
  {
   "cell_type": "code",
   "execution_count": 18,
   "metadata": {},
   "outputs": [
    {
     "data": {
      "text/html": [
       "<div>\n",
       "<style scoped>\n",
       "    .dataframe tbody tr th:only-of-type {\n",
       "        vertical-align: middle;\n",
       "    }\n",
       "\n",
       "    .dataframe tbody tr th {\n",
       "        vertical-align: top;\n",
       "    }\n",
       "\n",
       "    .dataframe thead th {\n",
       "        text-align: right;\n",
       "    }\n",
       "</style>\n",
       "<table border=\"1\" class=\"dataframe\">\n",
       "  <thead>\n",
       "    <tr style=\"text-align: right;\">\n",
       "      <th></th>\n",
       "      <th>Job Title</th>\n",
       "      <th>Company</th>\n",
       "      <th>Location</th>\n",
       "    </tr>\n",
       "  </thead>\n",
       "  <tbody>\n",
       "    <tr>\n",
       "      <th>0</th>\n",
       "      <td>Data Scientist (Python/Remote)</td>\n",
       "      <td>AM LLC</td>\n",
       "      <td>Arlington, VA</td>\n",
       "    </tr>\n",
       "    <tr>\n",
       "      <th>1</th>\n",
       "      <td>Data Scientist</td>\n",
       "      <td>Seen by Indeed</td>\n",
       "      <td>Fort Meade, MD 20755</td>\n",
       "    </tr>\n",
       "    <tr>\n",
       "      <th>2</th>\n",
       "      <td>Data Scientist</td>\n",
       "      <td>Red Oak Strategic</td>\n",
       "      <td>Herndon, VA</td>\n",
       "    </tr>\n",
       "    <tr>\n",
       "      <th>3</th>\n",
       "      <td>Data Scientist</td>\n",
       "      <td>Verizon</td>\n",
       "      <td>Herndon, VA 20170</td>\n",
       "    </tr>\n",
       "    <tr>\n",
       "      <th>4</th>\n",
       "      <td>Data Scientist</td>\n",
       "      <td>Central Intelligence Agency</td>\n",
       "      <td>Washington, DC</td>\n",
       "    </tr>\n",
       "    <tr>\n",
       "      <th>5</th>\n",
       "      <td>Data Scientist</td>\n",
       "      <td>Perspecta</td>\n",
       "      <td>Washington, DC</td>\n",
       "    </tr>\n",
       "    <tr>\n",
       "      <th>6</th>\n",
       "      <td>Undergraduate Internship/Co-op Program - Data ...</td>\n",
       "      <td>Central Intelligence Agency</td>\n",
       "      <td>Arlington, VA</td>\n",
       "    </tr>\n",
       "    <tr>\n",
       "      <th>7</th>\n",
       "      <td>Applied Data Scientist- Arlington, VA</td>\n",
       "      <td>Nestle USA</td>\n",
       "      <td>Suitland, MD 20746</td>\n",
       "    </tr>\n",
       "    <tr>\n",
       "      <th>8</th>\n",
       "      <td>Data Scientist</td>\n",
       "      <td>National Security Agency</td>\n",
       "      <td>Arlington, VA</td>\n",
       "    </tr>\n",
       "  </tbody>\n",
       "</table>\n",
       "</div>"
      ],
      "text/plain": [
       "                                           Job Title  \\\n",
       "0                     Data Scientist (Python/Remote)   \n",
       "1                                     Data Scientist   \n",
       "2                                     Data Scientist   \n",
       "3                                     Data Scientist   \n",
       "4                                     Data Scientist   \n",
       "5                                     Data Scientist   \n",
       "6  Undergraduate Internship/Co-op Program - Data ...   \n",
       "7              Applied Data Scientist- Arlington, VA   \n",
       "8                                     Data Scientist   \n",
       "\n",
       "                       Company              Location  \n",
       "0                       AM LLC         Arlington, VA  \n",
       "1               Seen by Indeed  Fort Meade, MD 20755  \n",
       "2            Red Oak Strategic           Herndon, VA  \n",
       "3                      Verizon     Herndon, VA 20170  \n",
       "4  Central Intelligence Agency        Washington, DC  \n",
       "5                    Perspecta        Washington, DC  \n",
       "6  Central Intelligence Agency         Arlington, VA  \n",
       "7                   Nestle USA    Suitland, MD 20746  \n",
       "8     National Security Agency         Arlington, VA  "
      ]
     },
     "execution_count": 18,
     "metadata": {},
     "output_type": "execute_result"
    }
   ],
   "source": [
    "sci_df = pd.DataFrame(list(zip(indeed_title(soup), indeed_company(soup), indeed_location(soup))), columns = ['Job Title', 'Company', 'Location'])\n",
    "sci_df"
   ]
  },
  {
   "cell_type": "code",
   "execution_count": 19,
   "metadata": {},
   "outputs": [],
   "source": [
    "ml_url = \"https://www.indeed.com/jobs?q=machine+learning+engineer&l=Washington%2C+DC&radius=50\""
   ]
  },
  {
   "cell_type": "code",
   "execution_count": 20,
   "metadata": {},
   "outputs": [],
   "source": [
    "ml_response = requests.get(ml_url)"
   ]
  },
  {
   "cell_type": "code",
   "execution_count": 21,
   "metadata": {},
   "outputs": [],
   "source": [
    "soup = BeautifulSoup(ml_response.text, 'html.parser')"
   ]
  },
  {
   "cell_type": "code",
   "execution_count": 22,
   "metadata": {},
   "outputs": [
    {
     "data": {
      "text/plain": [
       "['Eng 4, Machine Learning',\n",
       " 'Associate Systems Engineer (Geospatial/Machine Learning)',\n",
       " 'Systems Engineer',\n",
       " 'Sr. Front End Software Engineer',\n",
       " 'Data Engineer',\n",
       " 'Software Engineer for Machine Learning Applications',\n",
       " 'Full Stack Engineer',\n",
       " 'Machine Learning Engineer - McLean, VA',\n",
       " 'Computational / Machine Learning Engineer Intern',\n",
       " 'Senior Machine Learning Engineer',\n",
       " 'Reinforcement Learning Engineer',\n",
       " 'Machine Learning Engineer',\n",
       " 'Eng 4, Machine Learning',\n",
       " 'Machine Learning Engineer',\n",
       " 'Software Engineer for Machine Learning product',\n",
       " 'Machine Learning (ML) Data Scientist - Washington, DC',\n",
       " 'Senior Manager Machine Learning Engineer',\n",
       " 'Sr. DevOps Engineer',\n",
       " 'Lead Machine Learning DevOps Engineer']"
      ]
     },
     "execution_count": 22,
     "metadata": {},
     "output_type": "execute_result"
    }
   ],
   "source": [
    "indeed_title(soup)"
   ]
  },
  {
   "cell_type": "code",
   "execution_count": 23,
   "metadata": {},
   "outputs": [
    {
     "data": {
      "text/plain": [
       "['Comcast',\n",
       " 'Mitre Corporation',\n",
       " 'STONE Resource Group',\n",
       " 'Aerial Applications',\n",
       " 'Sayari Labs',\n",
       " 'DECISIVE ANALYTICS Corporation',\n",
       " 'Amida Technology Solutions',\n",
       " 'G11 Technology Partners',\n",
       " '3M',\n",
       " 'Rekor',\n",
       " 'PCI',\n",
       " 'Apar Technologies',\n",
       " 'Comcast',\n",
       " 'Virginia Tech',\n",
       " 'RiskSpan',\n",
       " 'G11 Technology Partners',\n",
       " 'Capital One - US',\n",
       " 'OneGlobe LLC',\n",
       " 'DECISIVE ANALYTICS Corporation']"
      ]
     },
     "execution_count": 23,
     "metadata": {},
     "output_type": "execute_result"
    }
   ],
   "source": [
    "indeed_company(soup)"
   ]
  },
  {
   "cell_type": "code",
   "execution_count": 24,
   "metadata": {},
   "outputs": [
    {
     "data": {
      "text/plain": [
       "['McLean, VA',\n",
       " 'Silver Spring, MD 20904',\n",
       " 'Columbia, MD 21046',\n",
       " 'Vienna, VA 22182',\n",
       " 'McLean, VA',\n",
       " 'Washington, DC 20005 (Logan Circle area)',\n",
       " 'Washington, DC',\n",
       " 'Arlington, VA',\n",
       " 'Washington, DC',\n",
       " 'McLean, VA']"
      ]
     },
     "execution_count": 24,
     "metadata": {},
     "output_type": "execute_result"
    }
   ],
   "source": [
    "indeed_location(soup)"
   ]
  },
  {
   "cell_type": "code",
   "execution_count": 25,
   "metadata": {},
   "outputs": [
    {
     "data": {
      "text/html": [
       "<div>\n",
       "<style scoped>\n",
       "    .dataframe tbody tr th:only-of-type {\n",
       "        vertical-align: middle;\n",
       "    }\n",
       "\n",
       "    .dataframe tbody tr th {\n",
       "        vertical-align: top;\n",
       "    }\n",
       "\n",
       "    .dataframe thead th {\n",
       "        text-align: right;\n",
       "    }\n",
       "</style>\n",
       "<table border=\"1\" class=\"dataframe\">\n",
       "  <thead>\n",
       "    <tr style=\"text-align: right;\">\n",
       "      <th></th>\n",
       "      <th>Job Title</th>\n",
       "      <th>Company</th>\n",
       "      <th>Location</th>\n",
       "    </tr>\n",
       "  </thead>\n",
       "  <tbody>\n",
       "    <tr>\n",
       "      <th>0</th>\n",
       "      <td>Eng 4, Machine Learning</td>\n",
       "      <td>Comcast</td>\n",
       "      <td>McLean, VA</td>\n",
       "    </tr>\n",
       "    <tr>\n",
       "      <th>1</th>\n",
       "      <td>Associate Systems Engineer (Geospatial/Machine...</td>\n",
       "      <td>Mitre Corporation</td>\n",
       "      <td>Silver Spring, MD 20904</td>\n",
       "    </tr>\n",
       "    <tr>\n",
       "      <th>2</th>\n",
       "      <td>Systems Engineer</td>\n",
       "      <td>STONE Resource Group</td>\n",
       "      <td>Columbia, MD 21046</td>\n",
       "    </tr>\n",
       "    <tr>\n",
       "      <th>3</th>\n",
       "      <td>Sr. Front End Software Engineer</td>\n",
       "      <td>Aerial Applications</td>\n",
       "      <td>Vienna, VA 22182</td>\n",
       "    </tr>\n",
       "    <tr>\n",
       "      <th>4</th>\n",
       "      <td>Data Engineer</td>\n",
       "      <td>Sayari Labs</td>\n",
       "      <td>McLean, VA</td>\n",
       "    </tr>\n",
       "    <tr>\n",
       "      <th>5</th>\n",
       "      <td>Software Engineer for Machine Learning Applica...</td>\n",
       "      <td>DECISIVE ANALYTICS Corporation</td>\n",
       "      <td>Washington, DC 20005 (Logan Circle area)</td>\n",
       "    </tr>\n",
       "    <tr>\n",
       "      <th>6</th>\n",
       "      <td>Full Stack Engineer</td>\n",
       "      <td>Amida Technology Solutions</td>\n",
       "      <td>Washington, DC</td>\n",
       "    </tr>\n",
       "    <tr>\n",
       "      <th>7</th>\n",
       "      <td>Machine Learning Engineer - McLean, VA</td>\n",
       "      <td>G11 Technology Partners</td>\n",
       "      <td>Arlington, VA</td>\n",
       "    </tr>\n",
       "    <tr>\n",
       "      <th>8</th>\n",
       "      <td>Computational / Machine Learning Engineer Intern</td>\n",
       "      <td>3M</td>\n",
       "      <td>Washington, DC</td>\n",
       "    </tr>\n",
       "    <tr>\n",
       "      <th>9</th>\n",
       "      <td>Senior Machine Learning Engineer</td>\n",
       "      <td>Rekor</td>\n",
       "      <td>McLean, VA</td>\n",
       "    </tr>\n",
       "  </tbody>\n",
       "</table>\n",
       "</div>"
      ],
      "text/plain": [
       "                                           Job Title  \\\n",
       "0                            Eng 4, Machine Learning   \n",
       "1  Associate Systems Engineer (Geospatial/Machine...   \n",
       "2                                   Systems Engineer   \n",
       "3                    Sr. Front End Software Engineer   \n",
       "4                                      Data Engineer   \n",
       "5  Software Engineer for Machine Learning Applica...   \n",
       "6                                Full Stack Engineer   \n",
       "7             Machine Learning Engineer - McLean, VA   \n",
       "8   Computational / Machine Learning Engineer Intern   \n",
       "9                   Senior Machine Learning Engineer   \n",
       "\n",
       "                          Company                                  Location  \n",
       "0                         Comcast                                McLean, VA  \n",
       "1               Mitre Corporation                   Silver Spring, MD 20904  \n",
       "2            STONE Resource Group                        Columbia, MD 21046  \n",
       "3             Aerial Applications                          Vienna, VA 22182  \n",
       "4                     Sayari Labs                                McLean, VA  \n",
       "5  DECISIVE ANALYTICS Corporation  Washington, DC 20005 (Logan Circle area)  \n",
       "6      Amida Technology Solutions                            Washington, DC  \n",
       "7         G11 Technology Partners                             Arlington, VA  \n",
       "8                              3M                            Washington, DC  \n",
       "9                           Rekor                                McLean, VA  "
      ]
     },
     "execution_count": 25,
     "metadata": {},
     "output_type": "execute_result"
    }
   ],
   "source": [
    "ml_df = pd.DataFrame(list(zip(indeed_title(soup), indeed_company(soup), indeed_location(soup))), columns = ['Job Title', 'Company', 'Location'])\n",
    "ml_df"
   ]
  },
  {
   "cell_type": "code",
   "execution_count": 26,
   "metadata": {},
   "outputs": [
    {
     "data": {
      "text/html": [
       "<div>\n",
       "<style scoped>\n",
       "    .dataframe tbody tr th:only-of-type {\n",
       "        vertical-align: middle;\n",
       "    }\n",
       "\n",
       "    .dataframe tbody tr th {\n",
       "        vertical-align: top;\n",
       "    }\n",
       "\n",
       "    .dataframe thead th {\n",
       "        text-align: right;\n",
       "    }\n",
       "</style>\n",
       "<table border=\"1\" class=\"dataframe\">\n",
       "  <thead>\n",
       "    <tr style=\"text-align: right;\">\n",
       "      <th></th>\n",
       "      <th>Job Title</th>\n",
       "      <th>Company</th>\n",
       "      <th>Location</th>\n",
       "    </tr>\n",
       "  </thead>\n",
       "  <tbody>\n",
       "    <tr>\n",
       "      <th>0</th>\n",
       "      <td>Data Analyst</td>\n",
       "      <td>Seen by Indeed</td>\n",
       "      <td>Washington, DC 20005 (Logan Circle area)</td>\n",
       "    </tr>\n",
       "    <tr>\n",
       "      <th>1</th>\n",
       "      <td>Data Analyst IV</td>\n",
       "      <td>Common Securitization Solutions</td>\n",
       "      <td>Arlington, VA</td>\n",
       "    </tr>\n",
       "    <tr>\n",
       "      <th>2</th>\n",
       "      <td>Data Analyst</td>\n",
       "      <td>Sage Management</td>\n",
       "      <td>Rosslyn, VA</td>\n",
       "    </tr>\n",
       "    <tr>\n",
       "      <th>3</th>\n",
       "      <td>Healthcare Data Analyst</td>\n",
       "      <td>Baltimore Medical System, Inc.</td>\n",
       "      <td>Arlington, VA 22201</td>\n",
       "    </tr>\n",
       "    <tr>\n",
       "      <th>4</th>\n",
       "      <td>Business Analyst</td>\n",
       "      <td>Maru Solutions</td>\n",
       "      <td>Washington, DC 20066 (Brentwood area)</td>\n",
       "    </tr>\n",
       "    <tr>\n",
       "      <th>5</th>\n",
       "      <td>Sr. Data Analyst</td>\n",
       "      <td>Tredence</td>\n",
       "      <td>Rockville, MD</td>\n",
       "    </tr>\n",
       "    <tr>\n",
       "      <th>6</th>\n",
       "      <td>Data Analyst</td>\n",
       "      <td>NewDay USA</td>\n",
       "      <td>Washington, DC 20036 (Downtown area)</td>\n",
       "    </tr>\n",
       "    <tr>\n",
       "      <th>7</th>\n",
       "      <td>Data Intake Analyst</td>\n",
       "      <td>The HSC Health Care System</td>\n",
       "      <td>Washington, DC 20005 (Logan Circle area)</td>\n",
       "    </tr>\n",
       "    <tr>\n",
       "      <th>8</th>\n",
       "      <td>Data Scientist (Python/Remote)</td>\n",
       "      <td>AM LLC</td>\n",
       "      <td>Arlington, VA</td>\n",
       "    </tr>\n",
       "    <tr>\n",
       "      <th>9</th>\n",
       "      <td>Data Scientist</td>\n",
       "      <td>Seen by Indeed</td>\n",
       "      <td>Fort Meade, MD 20755</td>\n",
       "    </tr>\n",
       "    <tr>\n",
       "      <th>10</th>\n",
       "      <td>Data Scientist</td>\n",
       "      <td>Red Oak Strategic</td>\n",
       "      <td>Herndon, VA</td>\n",
       "    </tr>\n",
       "    <tr>\n",
       "      <th>11</th>\n",
       "      <td>Data Scientist</td>\n",
       "      <td>Verizon</td>\n",
       "      <td>Herndon, VA 20170</td>\n",
       "    </tr>\n",
       "    <tr>\n",
       "      <th>12</th>\n",
       "      <td>Data Scientist</td>\n",
       "      <td>Central Intelligence Agency</td>\n",
       "      <td>Washington, DC</td>\n",
       "    </tr>\n",
       "    <tr>\n",
       "      <th>13</th>\n",
       "      <td>Data Scientist</td>\n",
       "      <td>Perspecta</td>\n",
       "      <td>Washington, DC</td>\n",
       "    </tr>\n",
       "    <tr>\n",
       "      <th>14</th>\n",
       "      <td>Undergraduate Internship/Co-op Program - Data ...</td>\n",
       "      <td>Central Intelligence Agency</td>\n",
       "      <td>Arlington, VA</td>\n",
       "    </tr>\n",
       "    <tr>\n",
       "      <th>15</th>\n",
       "      <td>Applied Data Scientist- Arlington, VA</td>\n",
       "      <td>Nestle USA</td>\n",
       "      <td>Suitland, MD 20746</td>\n",
       "    </tr>\n",
       "    <tr>\n",
       "      <th>16</th>\n",
       "      <td>Data Scientist</td>\n",
       "      <td>National Security Agency</td>\n",
       "      <td>Arlington, VA</td>\n",
       "    </tr>\n",
       "    <tr>\n",
       "      <th>17</th>\n",
       "      <td>Eng 4, Machine Learning</td>\n",
       "      <td>Comcast</td>\n",
       "      <td>McLean, VA</td>\n",
       "    </tr>\n",
       "    <tr>\n",
       "      <th>18</th>\n",
       "      <td>Associate Systems Engineer (Geospatial/Machine...</td>\n",
       "      <td>Mitre Corporation</td>\n",
       "      <td>Silver Spring, MD 20904</td>\n",
       "    </tr>\n",
       "    <tr>\n",
       "      <th>19</th>\n",
       "      <td>Systems Engineer</td>\n",
       "      <td>STONE Resource Group</td>\n",
       "      <td>Columbia, MD 21046</td>\n",
       "    </tr>\n",
       "    <tr>\n",
       "      <th>20</th>\n",
       "      <td>Sr. Front End Software Engineer</td>\n",
       "      <td>Aerial Applications</td>\n",
       "      <td>Vienna, VA 22182</td>\n",
       "    </tr>\n",
       "    <tr>\n",
       "      <th>21</th>\n",
       "      <td>Data Engineer</td>\n",
       "      <td>Sayari Labs</td>\n",
       "      <td>McLean, VA</td>\n",
       "    </tr>\n",
       "    <tr>\n",
       "      <th>22</th>\n",
       "      <td>Software Engineer for Machine Learning Applica...</td>\n",
       "      <td>DECISIVE ANALYTICS Corporation</td>\n",
       "      <td>Washington, DC 20005 (Logan Circle area)</td>\n",
       "    </tr>\n",
       "    <tr>\n",
       "      <th>23</th>\n",
       "      <td>Full Stack Engineer</td>\n",
       "      <td>Amida Technology Solutions</td>\n",
       "      <td>Washington, DC</td>\n",
       "    </tr>\n",
       "    <tr>\n",
       "      <th>24</th>\n",
       "      <td>Machine Learning Engineer - McLean, VA</td>\n",
       "      <td>G11 Technology Partners</td>\n",
       "      <td>Arlington, VA</td>\n",
       "    </tr>\n",
       "    <tr>\n",
       "      <th>25</th>\n",
       "      <td>Computational / Machine Learning Engineer Intern</td>\n",
       "      <td>3M</td>\n",
       "      <td>Washington, DC</td>\n",
       "    </tr>\n",
       "    <tr>\n",
       "      <th>26</th>\n",
       "      <td>Senior Machine Learning Engineer</td>\n",
       "      <td>Rekor</td>\n",
       "      <td>McLean, VA</td>\n",
       "    </tr>\n",
       "  </tbody>\n",
       "</table>\n",
       "</div>"
      ],
      "text/plain": [
       "                                            Job Title  \\\n",
       "0                                        Data Analyst   \n",
       "1                                     Data Analyst IV   \n",
       "2                                        Data Analyst   \n",
       "3                             Healthcare Data Analyst   \n",
       "4                                    Business Analyst   \n",
       "5                                    Sr. Data Analyst   \n",
       "6                                        Data Analyst   \n",
       "7                                 Data Intake Analyst   \n",
       "8                      Data Scientist (Python/Remote)   \n",
       "9                                      Data Scientist   \n",
       "10                                     Data Scientist   \n",
       "11                                     Data Scientist   \n",
       "12                                     Data Scientist   \n",
       "13                                     Data Scientist   \n",
       "14  Undergraduate Internship/Co-op Program - Data ...   \n",
       "15              Applied Data Scientist- Arlington, VA   \n",
       "16                                     Data Scientist   \n",
       "17                            Eng 4, Machine Learning   \n",
       "18  Associate Systems Engineer (Geospatial/Machine...   \n",
       "19                                   Systems Engineer   \n",
       "20                    Sr. Front End Software Engineer   \n",
       "21                                      Data Engineer   \n",
       "22  Software Engineer for Machine Learning Applica...   \n",
       "23                                Full Stack Engineer   \n",
       "24             Machine Learning Engineer - McLean, VA   \n",
       "25   Computational / Machine Learning Engineer Intern   \n",
       "26                   Senior Machine Learning Engineer   \n",
       "\n",
       "                            Company                                  Location  \n",
       "0                    Seen by Indeed  Washington, DC 20005 (Logan Circle area)  \n",
       "1   Common Securitization Solutions                             Arlington, VA  \n",
       "2                   Sage Management                               Rosslyn, VA  \n",
       "3    Baltimore Medical System, Inc.                       Arlington, VA 22201  \n",
       "4                    Maru Solutions     Washington, DC 20066 (Brentwood area)  \n",
       "5                          Tredence                             Rockville, MD  \n",
       "6                        NewDay USA      Washington, DC 20036 (Downtown area)  \n",
       "7        The HSC Health Care System  Washington, DC 20005 (Logan Circle area)  \n",
       "8                            AM LLC                             Arlington, VA  \n",
       "9                    Seen by Indeed                      Fort Meade, MD 20755  \n",
       "10                Red Oak Strategic                               Herndon, VA  \n",
       "11                          Verizon                         Herndon, VA 20170  \n",
       "12      Central Intelligence Agency                            Washington, DC  \n",
       "13                        Perspecta                            Washington, DC  \n",
       "14      Central Intelligence Agency                             Arlington, VA  \n",
       "15                       Nestle USA                        Suitland, MD 20746  \n",
       "16         National Security Agency                             Arlington, VA  \n",
       "17                          Comcast                                McLean, VA  \n",
       "18                Mitre Corporation                   Silver Spring, MD 20904  \n",
       "19             STONE Resource Group                        Columbia, MD 21046  \n",
       "20              Aerial Applications                          Vienna, VA 22182  \n",
       "21                      Sayari Labs                                McLean, VA  \n",
       "22   DECISIVE ANALYTICS Corporation  Washington, DC 20005 (Logan Circle area)  \n",
       "23       Amida Technology Solutions                            Washington, DC  \n",
       "24          G11 Technology Partners                             Arlington, VA  \n",
       "25                               3M                            Washington, DC  \n",
       "26                            Rekor                                McLean, VA  "
      ]
     },
     "execution_count": 26,
     "metadata": {},
     "output_type": "execute_result"
    }
   ],
   "source": [
    "df_all = pd.concat([df, sci_df, ml_df], ignore_index=True, verify_integrity=True)\n",
    "df_all"
   ]
  },
  {
   "cell_type": "code",
   "execution_count": 27,
   "metadata": {},
   "outputs": [],
   "source": [
    "df_all.to_csv(\"indeed_jobs.csv\", index=False)"
   ]
  },
  {
   "cell_type": "code",
   "execution_count": 28,
   "metadata": {},
   "outputs": [],
   "source": [
    "import psycopg2"
   ]
  },
  {
   "cell_type": "code",
   "execution_count": 29,
   "metadata": {},
   "outputs": [
    {
     "name": "stdout",
     "output_type": "stream",
     "text": [
      "{'user': 'postgres', 'dbname': 'ETL Project', 'host': '127.0.0.1', 'port': '5432', 'tty': '', 'options': '', 'sslmode': 'prefer', 'sslcompression': '0', 'krbsrvname': 'postgres', 'target_session_attrs': 'any'} \n",
      "\n",
      "You are connected to -  ('PostgreSQL 12.0, compiled by Visual C++ build 1914, 64-bit',) \n",
      "\n"
     ]
    }
   ],
   "source": [
    "\n",
    "try:\n",
    "    connection = psycopg2.connect(user = \"postgres\",\n",
    "                                  password = \"Swissbeats33\",\n",
    "                                  host = \"127.0.0.1\",\n",
    "                                  port = \"5432\",\n",
    "                                  database = \"ETL Project\")\n",
    "    cursor = connection.cursor()\n",
    "\n",
    "# Print PostgreSQL Connection properties\n",
    "    print( connection.get_dsn_parameters(),\"\\n\")\n",
    "    # Print PostgreSQL version\n",
    "    cursor.execute(\"SELECT version();\")\n",
    "    record = cursor.fetchone()\n",
    "    print(\"You are connected to - \", record,\"\\n\")\n",
    "except (Exception, psycopg2.Error) as error :\n",
    "    print (\"Error while connecting to PostgreSQL\", error)\n",
    "# finally:\n",
    "#     #closing database connection.\n",
    "#         if(connection):\n",
    "#             cursor.close()\n",
    "#             connection.close()\n",
    "#             print(\"PostgreSQL connection is closed\")\n"
   ]
  },
  {
   "cell_type": "code",
   "execution_count": 32,
   "metadata": {},
   "outputs": [],
   "source": [
    "import csv\n",
    "with open ('Indeed_jobs.csv', 'r') as f:\n",
    "    reader = csv.reader(f)\n",
    "    next (reader) #Skip the header row\n",
    "    for row in reader:\n",
    "        cursor.execute(\n",
    "        \"INSERT INTO data_job_postings VALUES (%s, %s, %s)\", row)\n",
    "        row\n",
    "    connection.commit()"
   ]
  },
  {
   "cell_type": "code",
   "execution_count": null,
   "metadata": {},
   "outputs": [],
   "source": []
  }
 ],
 "metadata": {
  "kernelspec": {
   "display_name": "Python 3",
   "language": "python",
   "name": "python3"
  },
  "language_info": {
   "codemirror_mode": {
    "name": "ipython",
    "version": 3
   },
   "file_extension": ".py",
   "mimetype": "text/x-python",
   "name": "python",
   "nbconvert_exporter": "python",
   "pygments_lexer": "ipython3",
   "version": "3.7.3"
  }
 },
 "nbformat": 4,
 "nbformat_minor": 2
}
